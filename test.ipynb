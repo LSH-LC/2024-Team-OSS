{
 "cells": [
  {
   "cell_type": "markdown",
   "metadata": {},
   "source": [
    "# 별자리 프로그램"
   ]
  },
  {
   "cell_type": "markdown",
   "metadata": {},
   "source": [
    "### 라이브러리 설치"
   ]
  },
  {
   "cell_type": "code",
   "execution_count": 1,
   "metadata": {},
   "outputs": [
    {
     "name": "stdout",
     "output_type": "stream",
     "text": [
      "Collecting pygame\n",
      "  Downloading pygame-2.6.1-cp312-cp312-win_amd64.whl.metadata (13 kB)\n",
      "Requirement already satisfied: astropy in c:\\users\\ss\\anaconda3\\lib\\site-packages (6.1.0)\n",
      "Requirement already satisfied: matplotlib in c:\\users\\ss\\anaconda3\\lib\\site-packages (3.8.4)\n",
      "Requirement already satisfied: numpy>=1.23 in c:\\users\\ss\\anaconda3\\lib\\site-packages (from astropy) (1.26.4)\n",
      "Requirement already satisfied: pyerfa>=2.0.1.1 in c:\\users\\ss\\anaconda3\\lib\\site-packages (from astropy) (2.0.1.4)\n",
      "Requirement already satisfied: astropy-iers-data>=0.2024.4.29.0.28.48 in c:\\users\\ss\\anaconda3\\lib\\site-packages (from astropy) (0.2024.6.3.0.31.14)\n",
      "Requirement already satisfied: PyYAML>=3.13 in c:\\users\\ss\\anaconda3\\lib\\site-packages (from astropy) (6.0.1)\n",
      "Requirement already satisfied: packaging>=19.0 in c:\\users\\ss\\anaconda3\\lib\\site-packages (from astropy) (23.2)\n",
      "Requirement already satisfied: contourpy>=1.0.1 in c:\\users\\ss\\anaconda3\\lib\\site-packages (from matplotlib) (1.2.0)\n",
      "Requirement already satisfied: cycler>=0.10 in c:\\users\\ss\\anaconda3\\lib\\site-packages (from matplotlib) (0.11.0)\n",
      "Requirement already satisfied: fonttools>=4.22.0 in c:\\users\\ss\\anaconda3\\lib\\site-packages (from matplotlib) (4.51.0)\n",
      "Requirement already satisfied: kiwisolver>=1.3.1 in c:\\users\\ss\\anaconda3\\lib\\site-packages (from matplotlib) (1.4.4)\n",
      "Requirement already satisfied: pillow>=8 in c:\\users\\ss\\anaconda3\\lib\\site-packages (from matplotlib) (10.3.0)\n",
      "Requirement already satisfied: pyparsing>=2.3.1 in c:\\users\\ss\\anaconda3\\lib\\site-packages (from matplotlib) (3.0.9)\n",
      "Requirement already satisfied: python-dateutil>=2.7 in c:\\users\\ss\\anaconda3\\lib\\site-packages (from matplotlib) (2.9.0.post0)\n",
      "Requirement already satisfied: six>=1.5 in c:\\users\\ss\\anaconda3\\lib\\site-packages (from python-dateutil>=2.7->matplotlib) (1.16.0)\n",
      "Downloading pygame-2.6.1-cp312-cp312-win_amd64.whl (10.6 MB)\n",
      "   ---------------------------------------- 0.0/10.6 MB ? eta -:--:--\n",
      "   ---------------------------------------- 0.0/10.6 MB 960.0 kB/s eta 0:00:12\n",
      "   - -------------------------------------- 0.4/10.6 MB 5.1 MB/s eta 0:00:03\n",
      "   --- ------------------------------------ 0.9/10.6 MB 7.5 MB/s eta 0:00:02\n",
      "   ------ --------------------------------- 1.7/10.6 MB 9.7 MB/s eta 0:00:01\n",
      "   -------- ------------------------------- 2.2/10.6 MB 10.8 MB/s eta 0:00:01\n",
      "   -------- ------------------------------- 2.3/10.6 MB 9.1 MB/s eta 0:00:01\n",
      "   --------- ------------------------------ 2.4/10.6 MB 8.0 MB/s eta 0:00:02\n",
      "   --------- ------------------------------ 2.6/10.6 MB 7.2 MB/s eta 0:00:02\n",
      "   ---------- ----------------------------- 2.9/10.6 MB 7.1 MB/s eta 0:00:02\n",
      "   -------------- ------------------------- 3.8/10.6 MB 8.3 MB/s eta 0:00:01\n",
      "   ------------------ --------------------- 4.9/10.6 MB 9.9 MB/s eta 0:00:01\n",
      "   ----------------------- ---------------- 6.4/10.6 MB 11.6 MB/s eta 0:00:01\n",
      "   ---------------------------- ----------- 7.6/10.6 MB 12.8 MB/s eta 0:00:01\n",
      "   --------------------------------- ------ 8.8/10.6 MB 13.8 MB/s eta 0:00:01\n",
      "   ------------------------------------- -- 10.0/10.6 MB 14.5 MB/s eta 0:00:01\n",
      "   ---------------------------------------  10.6/10.6 MB 16.0 MB/s eta 0:00:01\n",
      "   ---------------------------------------- 10.6/10.6 MB 15.6 MB/s eta 0:00:00\n",
      "Installing collected packages: pygame\n",
      "Successfully installed pygame-2.6.1\n",
      "Note: you may need to restart the kernel to use updated packages.\n"
     ]
    }
   ],
   "source": [
    "pip install pygame astropy matplotlib"
   ]
  },
  {
   "cell_type": "markdown",
   "metadata": {},
   "source": [
    "## 실행코드"
   ]
  },
  {
   "cell_type": "markdown",
   "metadata": {},
   "source": [
    "- 참조"
   ]
  },
  {
   "cell_type": "code",
   "execution_count": 2,
   "metadata": {},
   "outputs": [
    {
     "name": "stdout",
     "output_type": "stream",
     "text": [
      "pygame 2.6.1 (SDL 2.28.4, Python 3.12.4)\n",
      "Hello from the pygame community. https://www.pygame.org/contribute.html\n"
     ]
    }
   ],
   "source": [
    "import pygame\n",
    "import sys\n",
    "from datetime import datetime\n",
    "from astropy.coordinates import get_sun, EarthLocation\n",
    "from astropy.time import Time\n",
    "import numpy as np\n",
    "import math"
   ]
  },
  {
   "cell_type": "markdown",
   "metadata": {},
   "source": [
    "- 초기화"
   ]
  },
  {
   "cell_type": "code",
   "execution_count": 3,
   "metadata": {},
   "outputs": [
    {
     "data": {
      "text/plain": [
       "(5, 0)"
      ]
     },
     "execution_count": 3,
     "metadata": {},
     "output_type": "execute_result"
    }
   ],
   "source": [
    "pygame.init()"
   ]
  },
  {
   "cell_type": "markdown",
   "metadata": {},
   "source": [
    "- 화면크기 설정"
   ]
  },
  {
   "cell_type": "code",
   "execution_count": 4,
   "metadata": {},
   "outputs": [],
   "source": [
    "WIDTH, HEIGHT = 800, 600\n",
    "screen = pygame.display.set_mode((WIDTH, HEIGHT))\n",
    "pygame.display.set_caption(\"Star Constellation Simulator\")"
   ]
  },
  {
   "cell_type": "markdown",
   "metadata": {},
   "source": [
    "- 색상"
   ]
  },
  {
   "cell_type": "code",
   "execution_count": 5,
   "metadata": {},
   "outputs": [],
   "source": [
    "BLACK = (0, 0, 0)\n",
    "WHITE = (255, 255, 255)\n",
    "BLUE = (0, 0, 255)"
   ]
  },
  {
   "cell_type": "markdown",
   "metadata": {},
   "source": [
    "- 시계 설정"
   ]
  },
  {
   "cell_type": "code",
   "execution_count": 6,
   "metadata": {},
   "outputs": [],
   "source": [
    "clock = pygame.time.Clock()"
   ]
  },
  {
   "cell_type": "markdown",
   "metadata": {},
   "source": [
    "- 별자리 그리기"
   ]
  },
  {
   "cell_type": "code",
   "execution_count": 7,
   "metadata": {},
   "outputs": [
    {
     "ename": "KeyboardInterrupt",
     "evalue": "",
     "output_type": "error",
     "traceback": [
      "\u001b[1;31m---------------------------------------------------------------------------\u001b[0m",
      "\u001b[1;31mKeyboardInterrupt\u001b[0m                         Traceback (most recent call last)",
      "Cell \u001b[1;32mIn[7], line 23\u001b[0m\n\u001b[0;32m     20\u001b[0m screen\u001b[38;5;241m.\u001b[39mfill(BLACK)\n\u001b[0;32m     22\u001b[0m \u001b[38;5;66;03m# 이벤트 처리\u001b[39;00m\n\u001b[1;32m---> 23\u001b[0m \u001b[38;5;28;01mfor\u001b[39;00m event \u001b[38;5;129;01min\u001b[39;00m pygame\u001b[38;5;241m.\u001b[39mevent\u001b[38;5;241m.\u001b[39mget():\n\u001b[0;32m     24\u001b[0m     \u001b[38;5;28;01mif\u001b[39;00m event\u001b[38;5;241m.\u001b[39mtype \u001b[38;5;241m==\u001b[39m pygame\u001b[38;5;241m.\u001b[39mQUIT:\n\u001b[0;32m     25\u001b[0m         pygame\u001b[38;5;241m.\u001b[39mquit()\n",
      "\u001b[1;31mKeyboardInterrupt\u001b[0m: "
     ]
    }
   ],
   "source": [
    "# 별자리 그리기 함수 (단순한 예시로 원을 그립니다)\n",
    "def draw_star(x, y):\n",
    "    pygame.draw.circle(screen, WHITE, (x, y), 3)\n",
    "\n",
    "def draw_constellation(stars):\n",
    "    for star in stars:\n",
    "        draw_star(star[0], star[1])\n",
    "\n",
    "# 별자리 예시 데이터 (이 데이터는 실제 천문학적 계산에 따라 다릅니다)\n",
    "# 별자리 별의 (x, y) 좌표 (단순히 예시로 설정)\n",
    "constellation_stars = [\n",
    "    (400, 100),  # 별 1\n",
    "    (500, 150),  # 별 2\n",
    "    (600, 200),  # 별 3\n",
    "    (700, 250),  # 별 4\n",
    "]\n",
    "\n",
    "# 게임 루프\n",
    "while True:\n",
    "    screen.fill(BLACK)\n",
    "\n",
    "    # 이벤트 처리\n",
    "    for event in pygame.event.get():\n",
    "        if event.type == pygame.QUIT:\n",
    "            pygame.quit()\n",
    "            sys.exit()\n",
    "\n",
    "    # 현재 시간 가져오기\n",
    "    current_time = datetime.now()\n",
    "    time_str = current_time.strftime(\"%H:%M:%S\")\n",
    "\n",
    "    # 별자리 변화 계산 (여기서는 시간에 따라 x, y를 변경하는 방식으로 단순화)\n",
    "    offset_x = int(100 * math.sin(current_time.second / 60 * 2 * np.pi))  # 시간에 따라 x좌표 변환\n",
    "    offset_y = int(100 * math.cos(current_time.second / 60 * 2 * np.pi))  # 시간에 따라 y좌표 변환\n",
    "\n",
    "    # 별자리 그리기\n",
    "    transformed_stars = [(star[0] + offset_x, star[1] + offset_y) for star in constellation_stars]\n",
    "    draw_constellation(transformed_stars)"
   ]
  },
  {
   "cell_type": "markdown",
   "metadata": {},
   "source": [
    "- 업데이트 및 프레임"
   ]
  },
  {
   "cell_type": "code",
   "execution_count": null,
   "metadata": {},
   "outputs": [],
   "source": [
    "font = pygame.font.Font(None, 36)\n",
    "text = font.render(f\"Time: {time_str}\", True, WHITE)\n",
    "screen.blit(text, (10, 10))\n",
    "\n",
    "# 화면 업데이트\n",
    "pygame.display.flip()\n",
    "\n",
    "# 초당 30프레임으로 설정\n",
    "clock.tick(30)"
   ]
  }
 ],
 "metadata": {
  "kernelspec": {
   "display_name": "base",
   "language": "python",
   "name": "python3"
  },
  "language_info": {
   "codemirror_mode": {
    "name": "ipython",
    "version": 3
   },
   "file_extension": ".py",
   "mimetype": "text/x-python",
   "name": "python",
   "nbconvert_exporter": "python",
   "pygments_lexer": "ipython3",
   "version": "3.12.4"
  }
 },
 "nbformat": 4,
 "nbformat_minor": 2
}
